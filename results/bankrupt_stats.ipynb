{
 "cells": [
  {
   "cell_type": "code",
   "execution_count": 1,
   "metadata": {
    "collapsed": true
   },
   "outputs": [],
   "source": [
    "import pandas as pd\n",
    "import numpy as np"
   ]
  },
  {
   "cell_type": "markdown",
   "metadata": {},
   "source": [
    "# Loads game statistics\n",
    "\n",
    "Create a dataframe with all game statistics, each column represents:\n",
    "- max_rounds: if a game has ended in a timeout, False means a timeout\n",
    "- player_style: the player style that won that game\n",
    "- rounds: number of played rounds until the game ended\n",
    "\n",
    "Shows the last five rows as an example:"
   ]
  },
  {
   "cell_type": "code",
   "execution_count": 2,
   "metadata": {},
   "outputs": [
    {
     "data": {
      "text/html": [
       "<div>\n",
       "<style>\n",
       "    .dataframe thead tr:only-child th {\n",
       "        text-align: right;\n",
       "    }\n",
       "\n",
       "    .dataframe thead th {\n",
       "        text-align: left;\n",
       "    }\n",
       "\n",
       "    .dataframe tbody tr th {\n",
       "        vertical-align: top;\n",
       "    }\n",
       "</style>\n",
       "<table border=\"1\" class=\"dataframe\">\n",
       "  <thead>\n",
       "    <tr style=\"text-align: right;\">\n",
       "      <th></th>\n",
       "      <th>max_rounds</th>\n",
       "      <th>player_style</th>\n",
       "      <th>rounds</th>\n",
       "    </tr>\n",
       "  </thead>\n",
       "  <tbody>\n",
       "    <tr>\n",
       "      <th>295</th>\n",
       "      <td>False</td>\n",
       "      <td>PlayerStyle.EXIGENT</td>\n",
       "      <td>1000</td>\n",
       "    </tr>\n",
       "    <tr>\n",
       "      <th>296</th>\n",
       "      <td>True</td>\n",
       "      <td>PlayerStyle.IMPULSIVE</td>\n",
       "      <td>120</td>\n",
       "    </tr>\n",
       "    <tr>\n",
       "      <th>297</th>\n",
       "      <td>False</td>\n",
       "      <td>PlayerStyle.IMPULSIVE</td>\n",
       "      <td>1000</td>\n",
       "    </tr>\n",
       "    <tr>\n",
       "      <th>298</th>\n",
       "      <td>True</td>\n",
       "      <td>PlayerStyle.EXIGENT</td>\n",
       "      <td>118</td>\n",
       "    </tr>\n",
       "    <tr>\n",
       "      <th>299</th>\n",
       "      <td>True</td>\n",
       "      <td>PlayerStyle.RANDOM</td>\n",
       "      <td>77</td>\n",
       "    </tr>\n",
       "  </tbody>\n",
       "</table>\n",
       "</div>"
      ],
      "text/plain": [
       "     max_rounds           player_style  rounds\n",
       "295       False    PlayerStyle.EXIGENT    1000\n",
       "296        True  PlayerStyle.IMPULSIVE     120\n",
       "297       False  PlayerStyle.IMPULSIVE    1000\n",
       "298        True    PlayerStyle.EXIGENT     118\n",
       "299        True     PlayerStyle.RANDOM      77"
      ]
     },
     "execution_count": 2,
     "metadata": {},
     "output_type": "execute_result"
    }
   ],
   "source": [
    "df = pd.read_csv('output.csv')\n",
    "\n",
    "df.tail()"
   ]
  },
  {
   "cell_type": "markdown",
   "metadata": {},
   "source": [
    "# Timeouts\n",
    "\n",
    "Counts how many games ended in a timeout. Aproximately 55% of games end in a timeout."
   ]
  },
  {
   "cell_type": "code",
   "execution_count": 3,
   "metadata": {},
   "outputs": [
    {
     "data": {
      "text/plain": [
       "False    166\n",
       "True     134\n",
       "Name: max_rounds, dtype: int64"
      ]
     },
     "execution_count": 3,
     "metadata": {},
     "output_type": "execute_result"
    }
   ],
   "source": [
    "df['max_rounds'].value_counts()"
   ]
  },
  {
   "cell_type": "code",
   "execution_count": 11,
   "metadata": {},
   "outputs": [
    {
     "data": {
      "text/plain": [
       "False    55.333333\n",
       "True     44.666667\n",
       "Name: max_rounds, dtype: float64"
      ]
     },
     "execution_count": 11,
     "metadata": {},
     "output_type": "execute_result"
    }
   ],
   "source": [
    "df['max_rounds'].value_counts()/df['max_rounds'].count() * 100"
   ]
  },
  {
   "cell_type": "markdown",
   "metadata": {},
   "source": [
    "# Player Styles\n",
    "\n",
    "If we isolate the player style dimension. It is easy to see that the impulsive player is more efficient. The Impulsive player wins about 37% of games, followed by the Cautios player with 24%, then the Exigent with 21% and the Random with just 16%. "
   ]
  },
  {
   "cell_type": "code",
   "execution_count": 14,
   "metadata": {},
   "outputs": [
    {
     "data": {
      "text/plain": [
       "PlayerStyle.IMPULSIVE    113\n",
       "PlayerStyle.CAUTIOUS      72\n",
       "PlayerStyle.EXIGENT       65\n",
       "PlayerStyle.RANDOM        50\n",
       "Name: player_style, dtype: int64"
      ]
     },
     "execution_count": 14,
     "metadata": {},
     "output_type": "execute_result"
    }
   ],
   "source": [
    "df['player_style'].value_counts()"
   ]
  },
  {
   "cell_type": "code",
   "execution_count": 15,
   "metadata": {},
   "outputs": [
    {
     "data": {
      "text/plain": [
       "PlayerStyle.IMPULSIVE    37.666667\n",
       "PlayerStyle.CAUTIOUS     24.000000\n",
       "PlayerStyle.EXIGENT      21.666667\n",
       "PlayerStyle.RANDOM       16.666667\n",
       "Name: player_style, dtype: float64"
      ]
     },
     "execution_count": 15,
     "metadata": {},
     "output_type": "execute_result"
    }
   ],
   "source": [
    "df['player_style'].value_counts()/df['player_style'].count() * 100"
   ]
  },
  {
   "cell_type": "markdown",
   "metadata": {},
   "source": [
    "# Number of Rounds\n",
    "\n",
    "Describing the statistics of number of rounds, we see a mean of 613 rounds per game."
   ]
  },
  {
   "cell_type": "code",
   "execution_count": 5,
   "metadata": {},
   "outputs": [
    {
     "data": {
      "text/plain": [
       "count     300.000000\n",
       "mean      613.203333\n",
       "std       436.610480\n",
       "min        27.000000\n",
       "25%       110.750000\n",
       "50%      1000.000000\n",
       "75%      1000.000000\n",
       "max      1000.000000\n",
       "Name: rounds, dtype: float64"
      ]
     },
     "execution_count": 5,
     "metadata": {},
     "output_type": "execute_result"
    }
   ],
   "source": [
    "df['rounds'].describe()"
   ]
  },
  {
   "cell_type": "code",
   "execution_count": null,
   "metadata": {
    "collapsed": true
   },
   "outputs": [],
   "source": []
  }
 ],
 "metadata": {
  "kernelspec": {
   "display_name": "Python 3",
   "language": "python",
   "name": "python3"
  },
  "language_info": {
   "codemirror_mode": {
    "name": "ipython",
    "version": 3
   },
   "file_extension": ".py",
   "mimetype": "text/x-python",
   "name": "python",
   "nbconvert_exporter": "python",
   "pygments_lexer": "ipython3",
   "version": "3.6.1"
  }
 },
 "nbformat": 4,
 "nbformat_minor": 2
}
